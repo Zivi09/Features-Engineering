{
  "nbformat": 4,
  "nbformat_minor": 0,
  "metadata": {
    "colab": {
      "provenance": []
    },
    "kernelspec": {
      "name": "python3",
      "display_name": "Python 3"
    },
    "language_info": {
      "name": "python"
    }
  },
  "cells": [
    {
      "cell_type": "markdown",
      "source": [
        "# HANDLING NUMERICAL DATA"
      ],
      "metadata": {
        "id": "7l3jtWVLQ6UE"
      }
    },
    {
      "cell_type": "markdown",
      "source": [
        "**Overflow error**\n",
        "\n",
        "Overflow happens when we try to push more items on a stack than it can hold\n",
        "\n",
        "**Underflow**\n",
        "\n",
        "Underflow happens when we try to pop an item from an empty stack\n",
        "\n",
        "**Rescaling**\n",
        "distrubtion of data should not change\n",
        "\n"
      ],
      "metadata": {
        "id": "f56hTe6mZGkD"
      }
    },
    {
      "cell_type": "markdown",
      "source": [
        "**Types of SCALERS**\n",
        "\n",
        "Standard Features: z=x-u/s\n",
        "Standardization of a dataset is a common requirement for many machine learning estimators: they might behave badly if the individual features do not more or less look like standard normally distributed data\n",
        "\n",
        "**MinMaxScaler**\n",
        "X_std = (X - X.min(axis=0)) / (X.max(axis=0) - X.min(axis=0))\n",
        "X_scaled = X_std * (max - min) + min\n",
        "\n",
        "largest occurring data point corresponds to the maximum value (meaning the maximun value that occurs more type in the data will be the maximum value of the data example [100,99,98,99,99,99,99,95,23,45,67]then 99 will be the maximum value of the data )\n",
        "same for min\n",
        "if theres no negative value then minmaxscaler is used\n",
        "\n",
        "\n",
        "**Outlier**\n",
        "An outlier is an observation that lies an abnormal distance from other values in a random sample from a population (outliers are lying values)\n"
      ],
      "metadata": {
        "id": "DJ6Vp00-bplh"
      }
    },
    {
      "cell_type": "markdown",
      "source": [
        "**For DataSet i have used titanic dataset\n",
        "and at places i have used pasanger id to calculate mean standard diveation you can use other data and various function accoding to your data**"
      ],
      "metadata": {
        "id": "HBebb-fsz-M0"
      }
    },
    {
      "cell_type": "markdown",
      "source": [
        "#  Rescaling a feature"
      ],
      "metadata": {
        "id": "JUuDPbe2ppUx"
      }
    },
    {
      "cell_type": "markdown",
      "source": [
        "**MinMaxScaler**"
      ],
      "metadata": {
        "id": "MBRU6yLAHTOa"
      }
    },
    {
      "cell_type": "code",
      "source": [
        "import numpy as np\n",
        "from sklearn import preprocessing\n",
        "\n",
        "feature =np.array([\n",
        "    [-500.5],\n",
        "    [-100.1],\n",
        "    [0],\n",
        "    [100.1],\n",
        "    [900.9]\n",
        "    ])\n",
        "minmax_scaler = preprocessing.MinMaxScaler(feature_range=(0,1))\n",
        "scaled_feature = minmax_scaler.fit_transform(feature)\n",
        "scaled_feature"
      ],
      "metadata": {
        "colab": {
          "base_uri": "https://localhost:8080/"
        },
        "id": "2xBSPdUYWstI",
        "outputId": "d662cda1-5a5e-41ce-a83d-314ba31e2be6"
      },
      "execution_count": null,
      "outputs": [
        {
          "output_type": "execute_result",
          "data": {
            "text/plain": [
              "array([[0.        ],\n",
              "       [0.28571429],\n",
              "       [0.35714286],\n",
              "       [0.42857143],\n",
              "       [1.        ]])"
            ]
          },
          "metadata": {},
          "execution_count": 7
        }
      ]
    },
    {
      "cell_type": "markdown",
      "source": [
        "**Using Dataset**"
      ],
      "metadata": {
        "id": "wBfDAYiQGlAL"
      }
    },
    {
      "cell_type": "code",
      "source": [
        "import pandas as pd\n",
        "from sklearn import preprocessing\n",
        "df = pd.read_csv('/content/test (4).csv')\n",
        "feature = df['Fare']\n",
        "\n",
        "feature = feature.values.reshape(-1, 1)\n",
        "minmax_scaler = preprocessing.MinMaxScaler(feature_range=(0,1))\n",
        "scaled_feature = minmax_scaler.fit_transform(feature)\n",
        "scaled_feature\n",
        "# Slice the array to get the first 5 elements\n",
        "sliced_array = scaled_feature[:5]\n",
        "# Print the sliced array\n",
        "print(sliced_array)\n",
        "\n",
        "\n"
      ],
      "metadata": {
        "colab": {
          "base_uri": "https://localhost:8080/"
        },
        "id": "SBq9J9CVAXeZ",
        "outputId": "a7453291-0c99-467e-a1ab-ed0057a43e21"
      },
      "execution_count": null,
      "outputs": [
        {
          "output_type": "stream",
          "name": "stdout",
          "text": [
            "[[0.01528158]\n",
            " [0.01366309]\n",
            " [0.01890874]\n",
            " [0.01690807]\n",
            " [0.0239836 ]]\n"
          ]
        }
      ]
    },
    {
      "cell_type": "markdown",
      "source": [
        "#  Standardizing a Feature\n",
        "**[StandardScaler](https://scikit-learn.org/stable/modules/generated/sklearn.preprocessing.StandardScaler.html#sklearn.preprocessing.StandardScaler)**"
      ],
      "metadata": {
        "id": "C7AP3rkTil98"
      }
    },
    {
      "cell_type": "code",
      "source": [
        "import numpy as np\n",
        "from sklearn import preprocessing\n",
        "scaler = preprocessing. StandardScaler()\n",
        "standardized = scaler.fit_transform(feature)\n",
        "feature=np.array([\n",
        "    [-100.1],\n",
        "    [-200.2],\n",
        "    [500.5],\n",
        "    [600.6],\n",
        "    [900.9]])\n",
        "print(\"Mean {}\".format(round (standardized.mean())))\n",
        "print(\"Standard deviation: {}\".format(standardized.std()))"
      ],
      "metadata": {
        "colab": {
          "base_uri": "https://localhost:8080/"
        },
        "id": "ZL2XC6OFnF3w",
        "outputId": "d91de86a-8922-4e19-cca9-fa85a2c244e7"
      },
      "execution_count": null,
      "outputs": [
        {
          "output_type": "stream",
          "name": "stdout",
          "text": [
            "Mean 0\n",
            "Standard deviation: 1.0\n"
          ]
        }
      ]
    },
    {
      "cell_type": "markdown",
      "source": [
        "**using the RobustScaler method: **"
      ],
      "metadata": {
        "id": "mWs0InqPoNKx"
      }
    },
    {
      "cell_type": "code",
      "source": [
        "robust_scaler = preprocessing.RobustScaler()\n",
        "robust_scaler.fit_transform(feature)\n"
      ],
      "metadata": {
        "colab": {
          "base_uri": "https://localhost:8080/"
        },
        "id": "nKDPsatQoVVJ",
        "outputId": "7932a01f-9af9-439c-dfab-d26fd1a3e1ea"
      },
      "execution_count": null,
      "outputs": [
        {
          "output_type": "execute_result",
          "data": {
            "text/plain": [
              "array([[-0.85714286],\n",
              "       [-1.        ],\n",
              "       [ 0.        ],\n",
              "       [ 0.14285714],\n",
              "       [ 0.57142857]])"
            ]
          },
          "metadata": {},
          "execution_count": 24
        }
      ]
    },
    {
      "cell_type": "markdown",
      "source": [
        "**Using Dataset**"
      ],
      "metadata": {
        "id": "MDPg9epfLYyD"
      }
    },
    {
      "cell_type": "code",
      "source": [
        "import pandas as pd\n",
        "from sklearn import preprocessing\n",
        "scaler = preprocessing. StandardScaler()\n",
        "\n",
        "df = pd.read_csv('/content/test (4).csv')\n",
        "feature = df['PassengerId']\n",
        "feature =np.array(feature).reshape(-1, 1)\n",
        "\n",
        "standardized = scaler.fit_transform(feature)\n",
        "print(\"Mean {}\".format(round (standardized.mean())))\n",
        "print(\"Standard deviation: {}\".format(standardized.std()))"
      ],
      "metadata": {
        "colab": {
          "base_uri": "https://localhost:8080/"
        },
        "id": "egGBed0CHflK",
        "outputId": "eace1499-9a56-4b54-f359-d2ee5e5dd5f8"
      },
      "execution_count": null,
      "outputs": [
        {
          "output_type": "stream",
          "name": "stdout",
          "text": [
            "Mean 0\n",
            "Standard deviation: 0.9999999999999999\n"
          ]
        }
      ]
    },
    {
      "cell_type": "code",
      "source": [
        "robust_scaler = preprocessing.RobustScaler()\n",
        "robust_scaler.fit_transform(feature)\n",
        "transformed_feature = robust_scaler.transform(feature)\n",
        "\n",
        "# Slice the transformed data\n",
        "sliced_array = transformed_feature[:5]\n",
        "\n",
        "# Print the sliced array\n",
        "print(sliced_array)"
      ],
      "metadata": {
        "colab": {
          "base_uri": "https://localhost:8080/"
        },
        "id": "hjddNrnNKVdR",
        "outputId": "1ea7759d-4cb9-4376-98c7-30d4636908ad"
      },
      "execution_count": null,
      "outputs": [
        {
          "output_type": "stream",
          "name": "stdout",
          "text": [
            "[[-1.        ]\n",
            " [-0.99520384]\n",
            " [-0.99040767]\n",
            " [-0.98561151]\n",
            " [-0.98081535]]\n"
          ]
        }
      ]
    },
    {
      "cell_type": "markdown",
      "source": [
        "# Normalizing Observations"
      ],
      "metadata": {
        "id": "Eqi1QQHWnw-p"
      }
    },
    {
      "cell_type": "code",
      "source": [
        "import numpy as np\n",
        "from sklearn.preprocessing import Normalizer\n",
        "features = np.array([\n",
        "    [0.5,0.5],\n",
        "    [1.1,3.4],\n",
        "    [1.5,20.2],\n",
        "    [1.63,34.4],\n",
        "    [10.9,3.3],\n",
        "])\n",
        "normalizerl1=Normalizer(norm=\"l1\")\n",
        "normalizerl2=Normalizer(norm=\"l2\")\n",
        "normalizerMax=Normalizer(norm=\"max\")\n",
        "print(\"l1 normalization\\n\",normalizerl1.transform(features))\n",
        "print(\"\\nl2 normalization\\n\",normalizerl2.transform(features))\n",
        "print(\"\\nmax normalization\\n\",normalizerMax.transform(features))\n",
        "\n"
      ],
      "metadata": {
        "colab": {
          "base_uri": "https://localhost:8080/"
        },
        "id": "2DHebqWuj3tA",
        "outputId": "ddd9f6b0-5bf9-4ec1-ccdf-bf3a77c553cb"
      },
      "execution_count": null,
      "outputs": [
        {
          "output_type": "stream",
          "name": "stdout",
          "text": [
            "l1 normalization\n",
            " [[0.5        0.5       ]\n",
            " [0.24444444 0.75555556]\n",
            " [0.06912442 0.93087558]\n",
            " [0.04524008 0.95475992]\n",
            " [0.76760563 0.23239437]]\n",
            "\n",
            "l2 normalization\n",
            " [[0.70710678 0.70710678]\n",
            " [0.30782029 0.95144452]\n",
            " [0.07405353 0.99725427]\n",
            " [0.04733062 0.99887928]\n",
            " [0.95709822 0.28976368]]\n",
            "\n",
            "max normalization\n",
            " [[1.         1.        ]\n",
            " [0.32352941 1.        ]\n",
            " [0.07425743 1.        ]\n",
            " [0.04738372 1.        ]\n",
            " [1.         0.30275229]]\n"
          ]
        }
      ]
    },
    {
      "cell_type": "markdown",
      "source": [
        "**Using Dataset**"
      ],
      "metadata": {
        "id": "EYKZiC0QSv0q"
      }
    },
    {
      "cell_type": "code",
      "source": [
        "import pandas as pd\n",
        "from sklearn.preprocessing import Normalizer\n",
        "\n",
        "# Read the CSV file into a DataFrame\n",
        "df = pd.read_csv('/content/test (4).csv')\n",
        "\n",
        "# Extract the 'PassengerId' column and reshape it for normalization\n",
        "feature = df['PassengerId']\n",
        "feature = np.array(feature).reshape(-1, 1)\n",
        "\n",
        "# Initialize Normalizers\n",
        "normalizer_l1 = Normalizer(norm=\"l1\")\n",
        "normalizer_l2 = Normalizer(norm=\"l2\")\n",
        "normalizer_max = Normalizer(norm=\"max\")\n",
        "\n",
        "# Perform normalization\n",
        "normalized_l1 = normalizer_l1.transform(feature)\n",
        "normalized_l2 = normalizer_l2.transform(feature)\n",
        "normalized_max = normalizer_max.transform(feature)\n",
        "\n",
        "# Print a portion of the transformed data\n",
        "print(\"l1 normalization\\n\", normalized_l1[:5])  # Printing first 5 rows\n",
        "print(\"\\nl2 normalization\\n\", normalized_l2[:5])  # Printing first 5 rows\n",
        "print(\"\\nmax normalization\\n\", normalized_max[:5])  # Printing first 5 rows\n"
      ],
      "metadata": {
        "colab": {
          "base_uri": "https://localhost:8080/"
        },
        "id": "OsxLSEjvLhzj",
        "outputId": "92e9a5da-7408-4bdd-e3de-bddb2ddfd010"
      },
      "execution_count": null,
      "outputs": [
        {
          "output_type": "stream",
          "name": "stdout",
          "text": [
            "l1 normalization\n",
            " [[1.]\n",
            " [1.]\n",
            " [1.]\n",
            " [1.]\n",
            " [1.]]\n",
            "\n",
            "l2 normalization\n",
            " [[1.]\n",
            " [1.]\n",
            " [1.]\n",
            " [1.]\n",
            " [1.]]\n",
            "\n",
            "max normalization\n",
            " [[1.]\n",
            " [1.]\n",
            " [1.]\n",
            " [1.]\n",
            " [1.]]\n"
          ]
        }
      ]
    },
    {
      "cell_type": "markdown",
      "source": [
        "#  Grouping Observations Using Clustering"
      ],
      "metadata": {
        "id": "zs_TwWGFn-_Z"
      }
    },
    {
      "cell_type": "code",
      "source": [
        "import pandas as pd\n",
        "from sklearn.datasets import make_blobs\n",
        "from sklearn.cluster import KMeans\n",
        "features,_= make_blobs(n_samples = 50,\n",
        "                     n_features=2,\n",
        "                     centers=3,\n",
        "                     random_state=1)\n",
        "df=pd.DataFrame(features,columns=[\"feature_1\",\"feature_2\"])\n",
        "clusterer=KMeans(3,random_state=0)\n",
        "clusterer.fit(features)\n",
        "df[\"group\"]=clusterer.predict(features)\n",
        "df.head()\n"
      ],
      "metadata": {
        "colab": {
          "base_uri": "https://localhost:8080/",
          "height": 261
        },
        "id": "W8ZjmOZ_n_KB",
        "outputId": "a733ebbb-47b5-48f2-93c2-bcf2e1e8373a"
      },
      "execution_count": null,
      "outputs": [
        {
          "output_type": "stream",
          "name": "stderr",
          "text": [
            "/usr/local/lib/python3.10/dist-packages/sklearn/cluster/_kmeans.py:870: FutureWarning: The default value of `n_init` will change from 10 to 'auto' in 1.4. Set the value of `n_init` explicitly to suppress the warning\n",
            "  warnings.warn(\n"
          ]
        },
        {
          "output_type": "execute_result",
          "data": {
            "text/plain": [
              "   feature_1  feature_2  group\n",
              "0  -9.877554  -3.336145      0\n",
              "1  -7.287210  -8.353986      2\n",
              "2  -6.943061  -7.023744      2\n",
              "3  -7.440167  -8.791959      2\n",
              "4  -6.641388  -8.075888      2"
            ],
            "text/html": [
              "\n",
              "  <div id=\"df-4fa6d5fc-d534-4fe5-9096-9dd246642065\" class=\"colab-df-container\">\n",
              "    <div>\n",
              "<style scoped>\n",
              "    .dataframe tbody tr th:only-of-type {\n",
              "        vertical-align: middle;\n",
              "    }\n",
              "\n",
              "    .dataframe tbody tr th {\n",
              "        vertical-align: top;\n",
              "    }\n",
              "\n",
              "    .dataframe thead th {\n",
              "        text-align: right;\n",
              "    }\n",
              "</style>\n",
              "<table border=\"1\" class=\"dataframe\">\n",
              "  <thead>\n",
              "    <tr style=\"text-align: right;\">\n",
              "      <th></th>\n",
              "      <th>feature_1</th>\n",
              "      <th>feature_2</th>\n",
              "      <th>group</th>\n",
              "    </tr>\n",
              "  </thead>\n",
              "  <tbody>\n",
              "    <tr>\n",
              "      <th>0</th>\n",
              "      <td>-9.877554</td>\n",
              "      <td>-3.336145</td>\n",
              "      <td>0</td>\n",
              "    </tr>\n",
              "    <tr>\n",
              "      <th>1</th>\n",
              "      <td>-7.287210</td>\n",
              "      <td>-8.353986</td>\n",
              "      <td>2</td>\n",
              "    </tr>\n",
              "    <tr>\n",
              "      <th>2</th>\n",
              "      <td>-6.943061</td>\n",
              "      <td>-7.023744</td>\n",
              "      <td>2</td>\n",
              "    </tr>\n",
              "    <tr>\n",
              "      <th>3</th>\n",
              "      <td>-7.440167</td>\n",
              "      <td>-8.791959</td>\n",
              "      <td>2</td>\n",
              "    </tr>\n",
              "    <tr>\n",
              "      <th>4</th>\n",
              "      <td>-6.641388</td>\n",
              "      <td>-8.075888</td>\n",
              "      <td>2</td>\n",
              "    </tr>\n",
              "  </tbody>\n",
              "</table>\n",
              "</div>\n",
              "    <div class=\"colab-df-buttons\">\n",
              "\n",
              "  <div class=\"colab-df-container\">\n",
              "    <button class=\"colab-df-convert\" onclick=\"convertToInteractive('df-4fa6d5fc-d534-4fe5-9096-9dd246642065')\"\n",
              "            title=\"Convert this dataframe to an interactive table.\"\n",
              "            style=\"display:none;\">\n",
              "\n",
              "  <svg xmlns=\"http://www.w3.org/2000/svg\" height=\"24px\" viewBox=\"0 -960 960 960\">\n",
              "    <path d=\"M120-120v-720h720v720H120Zm60-500h600v-160H180v160Zm220 220h160v-160H400v160Zm0 220h160v-160H400v160ZM180-400h160v-160H180v160Zm440 0h160v-160H620v160ZM180-180h160v-160H180v160Zm440 0h160v-160H620v160Z\"/>\n",
              "  </svg>\n",
              "    </button>\n",
              "\n",
              "  <style>\n",
              "    .colab-df-container {\n",
              "      display:flex;\n",
              "      gap: 12px;\n",
              "    }\n",
              "\n",
              "    .colab-df-convert {\n",
              "      background-color: #E8F0FE;\n",
              "      border: none;\n",
              "      border-radius: 50%;\n",
              "      cursor: pointer;\n",
              "      display: none;\n",
              "      fill: #1967D2;\n",
              "      height: 32px;\n",
              "      padding: 0 0 0 0;\n",
              "      width: 32px;\n",
              "    }\n",
              "\n",
              "    .colab-df-convert:hover {\n",
              "      background-color: #E2EBFA;\n",
              "      box-shadow: 0px 1px 2px rgba(60, 64, 67, 0.3), 0px 1px 3px 1px rgba(60, 64, 67, 0.15);\n",
              "      fill: #174EA6;\n",
              "    }\n",
              "\n",
              "    .colab-df-buttons div {\n",
              "      margin-bottom: 4px;\n",
              "    }\n",
              "\n",
              "    [theme=dark] .colab-df-convert {\n",
              "      background-color: #3B4455;\n",
              "      fill: #D2E3FC;\n",
              "    }\n",
              "\n",
              "    [theme=dark] .colab-df-convert:hover {\n",
              "      background-color: #434B5C;\n",
              "      box-shadow: 0px 1px 3px 1px rgba(0, 0, 0, 0.15);\n",
              "      filter: drop-shadow(0px 1px 2px rgba(0, 0, 0, 0.3));\n",
              "      fill: #FFFFFF;\n",
              "    }\n",
              "  </style>\n",
              "\n",
              "    <script>\n",
              "      const buttonEl =\n",
              "        document.querySelector('#df-4fa6d5fc-d534-4fe5-9096-9dd246642065 button.colab-df-convert');\n",
              "      buttonEl.style.display =\n",
              "        google.colab.kernel.accessAllowed ? 'block' : 'none';\n",
              "\n",
              "      async function convertToInteractive(key) {\n",
              "        const element = document.querySelector('#df-4fa6d5fc-d534-4fe5-9096-9dd246642065');\n",
              "        const dataTable =\n",
              "          await google.colab.kernel.invokeFunction('convertToInteractive',\n",
              "                                                    [key], {});\n",
              "        if (!dataTable) return;\n",
              "\n",
              "        const docLinkHtml = 'Like what you see? Visit the ' +\n",
              "          '<a target=\"_blank\" href=https://colab.research.google.com/notebooks/data_table.ipynb>data table notebook</a>'\n",
              "          + ' to learn more about interactive tables.';\n",
              "        element.innerHTML = '';\n",
              "        dataTable['output_type'] = 'display_data';\n",
              "        await google.colab.output.renderOutput(dataTable, element);\n",
              "        const docLink = document.createElement('div');\n",
              "        docLink.innerHTML = docLinkHtml;\n",
              "        element.appendChild(docLink);\n",
              "      }\n",
              "    </script>\n",
              "  </div>\n",
              "\n",
              "\n",
              "<div id=\"df-47beac05-4d34-483a-9893-74810fcc83f0\">\n",
              "  <button class=\"colab-df-quickchart\" onclick=\"quickchart('df-47beac05-4d34-483a-9893-74810fcc83f0')\"\n",
              "            title=\"Suggest charts\"\n",
              "            style=\"display:none;\">\n",
              "\n",
              "<svg xmlns=\"http://www.w3.org/2000/svg\" height=\"24px\"viewBox=\"0 0 24 24\"\n",
              "     width=\"24px\">\n",
              "    <g>\n",
              "        <path d=\"M19 3H5c-1.1 0-2 .9-2 2v14c0 1.1.9 2 2 2h14c1.1 0 2-.9 2-2V5c0-1.1-.9-2-2-2zM9 17H7v-7h2v7zm4 0h-2V7h2v10zm4 0h-2v-4h2v4z\"/>\n",
              "    </g>\n",
              "</svg>\n",
              "  </button>\n",
              "\n",
              "<style>\n",
              "  .colab-df-quickchart {\n",
              "      --bg-color: #E8F0FE;\n",
              "      --fill-color: #1967D2;\n",
              "      --hover-bg-color: #E2EBFA;\n",
              "      --hover-fill-color: #174EA6;\n",
              "      --disabled-fill-color: #AAA;\n",
              "      --disabled-bg-color: #DDD;\n",
              "  }\n",
              "\n",
              "  [theme=dark] .colab-df-quickchart {\n",
              "      --bg-color: #3B4455;\n",
              "      --fill-color: #D2E3FC;\n",
              "      --hover-bg-color: #434B5C;\n",
              "      --hover-fill-color: #FFFFFF;\n",
              "      --disabled-bg-color: #3B4455;\n",
              "      --disabled-fill-color: #666;\n",
              "  }\n",
              "\n",
              "  .colab-df-quickchart {\n",
              "    background-color: var(--bg-color);\n",
              "    border: none;\n",
              "    border-radius: 50%;\n",
              "    cursor: pointer;\n",
              "    display: none;\n",
              "    fill: var(--fill-color);\n",
              "    height: 32px;\n",
              "    padding: 0;\n",
              "    width: 32px;\n",
              "  }\n",
              "\n",
              "  .colab-df-quickchart:hover {\n",
              "    background-color: var(--hover-bg-color);\n",
              "    box-shadow: 0 1px 2px rgba(60, 64, 67, 0.3), 0 1px 3px 1px rgba(60, 64, 67, 0.15);\n",
              "    fill: var(--button-hover-fill-color);\n",
              "  }\n",
              "\n",
              "  .colab-df-quickchart-complete:disabled,\n",
              "  .colab-df-quickchart-complete:disabled:hover {\n",
              "    background-color: var(--disabled-bg-color);\n",
              "    fill: var(--disabled-fill-color);\n",
              "    box-shadow: none;\n",
              "  }\n",
              "\n",
              "  .colab-df-spinner {\n",
              "    border: 2px solid var(--fill-color);\n",
              "    border-color: transparent;\n",
              "    border-bottom-color: var(--fill-color);\n",
              "    animation:\n",
              "      spin 1s steps(1) infinite;\n",
              "  }\n",
              "\n",
              "  @keyframes spin {\n",
              "    0% {\n",
              "      border-color: transparent;\n",
              "      border-bottom-color: var(--fill-color);\n",
              "      border-left-color: var(--fill-color);\n",
              "    }\n",
              "    20% {\n",
              "      border-color: transparent;\n",
              "      border-left-color: var(--fill-color);\n",
              "      border-top-color: var(--fill-color);\n",
              "    }\n",
              "    30% {\n",
              "      border-color: transparent;\n",
              "      border-left-color: var(--fill-color);\n",
              "      border-top-color: var(--fill-color);\n",
              "      border-right-color: var(--fill-color);\n",
              "    }\n",
              "    40% {\n",
              "      border-color: transparent;\n",
              "      border-right-color: var(--fill-color);\n",
              "      border-top-color: var(--fill-color);\n",
              "    }\n",
              "    60% {\n",
              "      border-color: transparent;\n",
              "      border-right-color: var(--fill-color);\n",
              "    }\n",
              "    80% {\n",
              "      border-color: transparent;\n",
              "      border-right-color: var(--fill-color);\n",
              "      border-bottom-color: var(--fill-color);\n",
              "    }\n",
              "    90% {\n",
              "      border-color: transparent;\n",
              "      border-bottom-color: var(--fill-color);\n",
              "    }\n",
              "  }\n",
              "</style>\n",
              "\n",
              "  <script>\n",
              "    async function quickchart(key) {\n",
              "      const quickchartButtonEl =\n",
              "        document.querySelector('#' + key + ' button');\n",
              "      quickchartButtonEl.disabled = true;  // To prevent multiple clicks.\n",
              "      quickchartButtonEl.classList.add('colab-df-spinner');\n",
              "      try {\n",
              "        const charts = await google.colab.kernel.invokeFunction(\n",
              "            'suggestCharts', [key], {});\n",
              "      } catch (error) {\n",
              "        console.error('Error during call to suggestCharts:', error);\n",
              "      }\n",
              "      quickchartButtonEl.classList.remove('colab-df-spinner');\n",
              "      quickchartButtonEl.classList.add('colab-df-quickchart-complete');\n",
              "    }\n",
              "    (() => {\n",
              "      let quickchartButtonEl =\n",
              "        document.querySelector('#df-47beac05-4d34-483a-9893-74810fcc83f0 button');\n",
              "      quickchartButtonEl.style.display =\n",
              "        google.colab.kernel.accessAllowed ? 'block' : 'none';\n",
              "    })();\n",
              "  </script>\n",
              "</div>\n",
              "\n",
              "    </div>\n",
              "  </div>\n"
            ],
            "application/vnd.google.colaboratory.intrinsic+json": {
              "type": "dataframe",
              "variable_name": "df",
              "summary": "{\n  \"name\": \"df\",\n  \"rows\": 50,\n  \"fields\": [\n    {\n      \"column\": \"feature_1\",\n      \"properties\": {\n        \"dtype\": \"number\",\n        \"std\": 3.613163127817125,\n        \"min\": -11.140230701675241,\n        \"max\": 0.08525185826796045,\n        \"num_unique_values\": 50,\n        \"samples\": [\n          -10.752110444649754,\n          -7.512010748443737,\n          -7.7355444699467695\n        ],\n        \"semantic_type\": \"\",\n        \"description\": \"\"\n      }\n    },\n    {\n      \"column\": \"feature_2\",\n      \"properties\": {\n        \"dtype\": \"number\",\n        \"std\": 4.99697747664458,\n        \"min\": -10.175429320448048,\n        \"max\": 5.551213578682775,\n        \"num_unique_values\": 50,\n        \"samples\": [\n          -2.7004803921299168,\n          -6.9287203998185465,\n          -7.775664318303125\n        ],\n        \"semantic_type\": \"\",\n        \"description\": \"\"\n      }\n    },\n    {\n      \"column\": \"group\",\n      \"properties\": {\n        \"dtype\": \"int32\",\n        \"num_unique_values\": 3,\n        \"samples\": [\n          0,\n          2,\n          1\n        ],\n        \"semantic_type\": \"\",\n        \"description\": \"\"\n      }\n    }\n  ]\n}"
            }
          },
          "metadata": {},
          "execution_count": 57
        }
      ]
    },
    {
      "cell_type": "markdown",
      "source": [
        "**Using Dataset**"
      ],
      "metadata": {
        "id": "msUYraYzOcwz"
      }
    },
    {
      "cell_type": "code",
      "source": [
        "import pandas as pd\n",
        "from sklearn.cluster import KMeans\n",
        "\n",
        "# Read the CSV file into a DataFrame\n",
        "df = pd.read_csv('/content/test (4).csv')\n",
        "\n",
        "# Extract the 'PassengerId' column and reshape it for clustering\n",
        "features = df['PassengerId']\n",
        "features = np.array(features).reshape(-1, 1)\n",
        "\n",
        "# Create a DataFrame with the features\n",
        "df_features = pd.DataFrame(features, columns=[\"PassengerId\"])\n",
        "\n",
        "# Initialize and fit KMeans clustering\n",
        "clusterer = KMeans(n_clusters=3, random_state=0)\n",
        "clusterer.fit(features)\n",
        "\n",
        "# Add cluster labels to the DataFrame\n",
        "df_features[\"group\"] = clusterer.labels_\n",
        "\n",
        "# Display the DataFrame with cluster labels\n",
        "print(df_features.head())\n"
      ],
      "metadata": {
        "colab": {
          "base_uri": "https://localhost:8080/"
        },
        "id": "Fr3mkK96OhUr",
        "outputId": "8b92d734-d2ac-4529-89f8-a01452b84a44"
      },
      "execution_count": null,
      "outputs": [
        {
          "output_type": "stream",
          "name": "stdout",
          "text": [
            "   PassengerId  group\n",
            "0          892      0\n",
            "1          893      0\n",
            "2          894      0\n",
            "3          895      0\n",
            "4          896      0\n"
          ]
        },
        {
          "output_type": "stream",
          "name": "stderr",
          "text": [
            "/usr/local/lib/python3.10/dist-packages/sklearn/cluster/_kmeans.py:870: FutureWarning: The default value of `n_init` will change from 10 to 'auto' in 1.4. Set the value of `n_init` explicitly to suppress the warning\n",
            "  warnings.warn(\n"
          ]
        }
      ]
    },
    {
      "cell_type": "markdown",
      "source": [
        "# Deleteing Observations with Missing Values"
      ],
      "metadata": {
        "id": "ZavYsOgEpbEx"
      }
    },
    {
      "cell_type": "code",
      "source": [
        "import numpy as np\n",
        "features = np.array([\n",
        "    [1.1,11.1],\n",
        "    [2.2,22.2],\n",
        "    [3.3,33.3],\n",
        "    [np.nan,55]\n",
        "])\n",
        "features[~np.isnan(features).any(axis=1)]"
      ],
      "metadata": {
        "colab": {
          "base_uri": "https://localhost:8080/"
        },
        "id": "GGjHN1ZFpiBx",
        "outputId": "784142c4-51c0-4e27-b189-6db3667d7496"
      },
      "execution_count": null,
      "outputs": [
        {
          "output_type": "execute_result",
          "data": {
            "text/plain": [
              "array([[ 1.1, 11.1],\n",
              "       [ 2.2, 22.2],\n",
              "       [ 3.3, 33.3]])"
            ]
          },
          "metadata": {},
          "execution_count": 11
        }
      ]
    },
    {
      "cell_type": "markdown",
      "source": [
        "**Using Dataset**"
      ],
      "metadata": {
        "id": "C_NqroM7zz_8"
      }
    },
    {
      "cell_type": "code",
      "source": [
        "import pandas as pd\n",
        "\n",
        "\n",
        "# Read the CSV file into a DataFrame\n",
        "df = pd.read_csv('/content/test (4).csv')\n",
        "\n",
        "# Extract the 'PassengerId' column\n",
        "features = df['PassengerId']\n",
        "\n",
        "# Reshape the feature for clustering\n",
        "features = np.array(features).reshape(-1, 1)\n",
        "\n",
        "# Remove rows with NaN values\n",
        "features_cleaned = features[~np.isnan(features).any(axis=1)]\n",
        "\n",
        "# Slice the cleaned features array to display a portion of it\n",
        "portion_of_features = features_cleaned[:10]  # Displaying the first 10 rows\n",
        "\n",
        "# Display the sliced portion of the cleaned features\n",
        "print(portion_of_features)\n",
        "\n"
      ],
      "metadata": {
        "colab": {
          "base_uri": "https://localhost:8080/"
        },
        "id": "wnHHcyYFQ0P0",
        "outputId": "c98341f1-ab0c-4657-8273-48ea4243c783"
      },
      "execution_count": null,
      "outputs": [
        {
          "output_type": "stream",
          "name": "stdout",
          "text": [
            "[[892]\n",
            " [893]\n",
            " [894]\n",
            " [895]\n",
            " [896]\n",
            " [897]\n",
            " [898]\n",
            " [899]\n",
            " [900]\n",
            " [901]]\n"
          ]
        }
      ]
    },
    {
      "cell_type": "markdown",
      "source": [
        "# Imputing Missing Value\n",
        "[SimpleImputer](https://scikit-learn.org/stable/modules/generated/sklearn.impute.SimpleImputer.html)"
      ],
      "metadata": {
        "id": "kpexBSUxrUpM"
      }
    },
    {
      "cell_type": "code",
      "source": [
        "import numpy as np\n",
        "from sklearn.preprocessing import StandardScaler\n",
        "from sklearn.impute import SimpleImputer\n",
        "from sklearn.datasets import make_blobs\n",
        "\n",
        "features, _ = make_blobs(n_samples=1000, n_features=2, random_state=1)\n",
        "\n",
        "# standardize the features\n",
        "scaler = StandardScaler()\n",
        "standardized_features = scaler.fit_transform(features)\n",
        "\n",
        "# replace the first feature's first value with a missing value\n",
        "true_value = standardized_features[0, 0]\n",
        "standardized_features[0, 0] = np.nan\n",
        "\n",
        "# create imputer\n",
        "mean_imputer = SimpleImputer(strategy=\"mean\")\n",
        "median_imputer = SimpleImputer(strategy=\"median\")\n",
        "mode_imputer = SimpleImputer(strategy=\"most_frequent\")\n",
        "\n",
        "# impute values\n",
        "features_mean_imputed = mean_imputer.fit_transform(standardized_features)\n",
        "features_median_imputed = median_imputer.fit_transform(standardized_features)\n",
        "features_mode_imputed = mode_imputer.fit_transform(standardized_features)\n",
        "\n",
        "# compare true and imputed values\n",
        "print(\"True Value: {}\".format(true_value))\n",
        "print(\"Mean Imputed Value: {}\".format(features_mean_imputed[0, 0]))\n",
        "print(\"Median Imputed Value: {}\".format(features_median_imputed[0, 0]))\n",
        "print(\"Mode Imputed Value: {}\".format(features_mode_imputed[0, 0]))"
      ],
      "metadata": {
        "colab": {
          "base_uri": "https://localhost:8080/"
        },
        "id": "zloeVNQirUes",
        "outputId": "5670c6e4-4e8d-4532-a1bf-e0fafa401a0d"
      },
      "execution_count": null,
      "outputs": [
        {
          "output_type": "stream",
          "name": "stdout",
          "text": [
            "True Value: 0.8730186113995938\n",
            "Mean Imputed Value: -0.000873892503901796\n",
            "Median Imputed Value: -0.23980483042535553\n",
            "Mode Imputed Value: -1.9059115647714258\n"
          ]
        }
      ]
    },
    {
      "cell_type": "markdown",
      "source": [
        "**Using Dataset**"
      ],
      "metadata": {
        "id": "ReDpWH1BThhr"
      }
    },
    {
      "cell_type": "code",
      "source": [
        "import pandas as pd\n",
        "import numpy as np\n",
        "from sklearn.preprocessing import StandardScaler\n",
        "from sklearn.impute import SimpleImputer\n",
        "\n",
        "# Read the CSV file into a DataFrame\n",
        "df = pd.read_csv('/content/test (4).csv')\n",
        "\n",
        "# Extract the 'PassengerId' column\n",
        "features = df['PassengerId']\n",
        "\n",
        "# Reshape the feature for clustering\n",
        "features = np.array(features).reshape(-1, 1)\n",
        "\n",
        "# Apply imputation\n",
        "# Create imputer\n",
        "mean_imputer = SimpleImputer(strategy=\"mean\")\n",
        "median_imputer = SimpleImputer(strategy=\"median\")\n",
        "mode_imputer = SimpleImputer(strategy=\"most_frequent\")\n",
        "\n",
        "# Impute values\n",
        "features_mean_imputed = mean_imputer.fit_transform(features)\n",
        "features_median_imputed = median_imputer.fit_transform(features)\n",
        "features_mode_imputed = mode_imputer.fit_transform(features)\n",
        "\n",
        "# Compare true and imputed values for the first element\n",
        "print(\"Mean Imputed Value: {}\".format(features_mean_imputed[0, 0]))\n",
        "print(\"Median Imputed Value: {}\".format(features_median_imputed[0, 0]))\n",
        "print(\"Mode Imputed Value: {}\".format(features_mode_imputed[0, 0]))\n"
      ],
      "metadata": {
        "colab": {
          "base_uri": "https://localhost:8080/"
        },
        "id": "nvUcQ4INTHjF",
        "outputId": "810dcbe8-2abf-4230-df34-ed7036dcaaab"
      },
      "execution_count": null,
      "outputs": [
        {
          "output_type": "stream",
          "name": "stdout",
          "text": [
            "Mean Imputed Value: 892.0\n",
            "Median Imputed Value: 892.0\n",
            "Mode Imputed Value: 892\n"
          ]
        }
      ]
    }
  ]
}
